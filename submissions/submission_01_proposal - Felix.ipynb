{
 "cells": [
  {
   "cell_type": "markdown",
   "id": "06fe92e2-ddd0-4a2a-a479-d7d6a7e7a85d",
   "metadata": {},
   "source": [
    "# Submission 1 - Proposal"
   ]
  },
  {
   "cell_type": "markdown",
   "id": "658bcb84-4b8f-4c28-acf0-2c76b39c428d",
   "metadata": {},
   "source": [
    "**Instructions:**\n",
    "- Fill out the 'Team Information','Data Information' and 'Hypotheses' sections (replace the TODOs with your information)\n",
    "- Export the Jupyter notebook as a HTML file and save it in this repository.\n",
    "  - Go to 'File' -> 'Save and Export Notebook As..' -> 'HTML'.\n",
    "  - Save it locally in your project folder. You can leave the name as it is.\n",
    "  - Push your local changes to the GitHub repository.\n",
    "- Upload the generated HTML for the Moodle submission."
   ]
  },
  {
   "cell_type": "markdown",
   "id": "10010851-a1ba-474b-b165-748017334668",
   "metadata": {
    "tags": []
   },
   "source": [
    "---\n",
    "## Team Information"
   ]
  },
  {
   "cell_type": "markdown",
   "id": "d23dd551-b591-4365-8738-3d950ce8c46e",
   "metadata": {},
   "source": [
    "**Team Name:** TODO"
   ]
  },
  {
   "cell_type": "markdown",
   "id": "2ae4f196-e767-4a8b-ab00-075fe059f008",
   "metadata": {},
   "source": [
    "**Team Members:**\n",
    "- TODO\n",
    "- TODO\n",
    "- TODO\n",
    "- TODO"
   ]
  },
  {
   "cell_type": "markdown",
   "id": "e48444d8-421f-49c0-bde8-4d7517b387fa",
   "metadata": {
    "tags": []
   },
   "source": [
    "---\n",
    "## Dataset Information"
   ]
  },
  {
   "cell_type": "markdown",
   "id": "47e6d80d-5aff-4d69-ba7a-cc05b82ed1ec",
   "metadata": {
    "tags": []
   },
   "source": [
    "**Where is It From:**  \n",
    "(max. 75 words)"
   ]
  },
  {
   "cell_type": "markdown",
   "id": "6406db61-1938-4dc8-a95f-92ce209ada6a",
   "metadata": {},
   "source": [
    "This is the source for our dataset:\n",
    "\n",
    "https://covid19-dashboard.ages.at/\n",
    "\n",
    "It consists of seven individual datasets of which we are going to use five for this project.\n",
    "\n",
    "\n",
    "However, we did also include vaccine statistics from https://www.data.gv.at/katalog/dataset/85d040af-e09a-4401-8d67-8cee3e41fcaa because it was not available via the ages covid dashboard dataset. Finally we included, demographic statistics about Austria from https://www.statistik.at/statistiken/bevoelkerung-und-soziales/bevoelkerung/bevoelkerungsstand/bevoelkerung-zu-jahres-/-quartalsanfang."
   ]
  },
  {
   "cell_type": "markdown",
   "id": "a99d086d-6423-4d87-8bdd-5c4919e9ad7d",
   "metadata": {},
   "source": [
    "**What is It About:**  \n",
    "(max. 75 words)"
   ]
  },
  {
   "cell_type": "markdown",
   "id": "eac20b26-45ac-44f0-bca0-c8ee2109c685",
   "metadata": {},
   "source": [
    "Our dataset includes numerous statistics about the Covid-19 pandemic in Austria since it's beginning. Daily number of infections, hospitalization and deaths are available among different age groups. Moreover, all of the data is aggregatable by states and disctricts. Additionally, the dataset also includes vaccine, test and available hospital beds statistics. "
   ]
  },
  {
   "cell_type": "markdown",
   "id": "6fdd2cc2-78c9-46fe-a1a3-1da890e42195",
   "metadata": {},
   "source": [
    "**Size of the Dataset:**   \n",
    "(max. 75 words)"
   ]
  },
  {
   "cell_type": "markdown",
   "id": "bd4efdaa-b0e5-4c2b-9a09-4427fd0288bd",
   "metadata": {},
   "source": [
    "The size of our dataset in its raw form consists of six individual datasets. Combined we do have 542,507 row entries. Moreover the total of entry summarizes to 4,380,134 entries. We expect this number to significantly reduce after our data clean-up and aggregation.\n",
    "\n"
   ]
  },
  {
   "cell_type": "markdown",
   "id": "1342c4f0-3978-4c13-bb60-f5f5815009fe",
   "metadata": {},
   "source": [
    "---\n",
    "## Hypotheses"
   ]
  },
  {
   "cell_type": "markdown",
   "id": "0ea83f81-efb3-44dc-873d-9a47c53de7cf",
   "metadata": {},
   "source": [
    "### Simple Hypotheses"
   ]
  },
  {
   "cell_type": "markdown",
   "id": "24d69728-a81b-4c00-b292-a6ead0c36c55",
   "metadata": {},
   "source": [
    "**1.** There is no difference in absolute Covid-19 infections numbers between states in Austria."
   ]
  },
  {
   "cell_type": "markdown",
   "id": "8bd9a189-89ff-490d-81f6-98cb9c515565",
   "metadata": {},
   "source": [
    "**2.** The number of new daily Covid-19 infections in Austria does vary between seasons."
   ]
  },
  {
   "cell_type": "markdown",
   "id": "57435e11-867f-409c-964c-77e162e38d75",
   "metadata": {},
   "source": [
    "### Complex Hypotheses"
   ]
  },
  {
   "cell_type": "markdown",
   "id": "eb295345-93fc-4dfb-8fec-dd37d8d34fba",
   "metadata": {},
   "source": [
    "**1.** States with a higher vaccine rate do have a lower mortality and hospitalization rate. "
   ]
  },
  {
   "cell_type": "markdown",
   "id": "fc3b54ae-77b0-45f3-960e-5e640b760b96",
   "metadata": {},
   "source": [
    "**2.** The number of infections per agegroup is influenced by the sex.\n"
   ]
  },
  {
   "cell_type": "markdown",
   "id": "bad7f34c",
   "metadata": {},
   "source": [
    "## Load data"
   ]
  },
  {
   "cell_type": "code",
   "execution_count": 9,
   "id": "2a17987f",
   "metadata": {},
   "outputs": [],
   "source": [
    "import numpy as np\n",
    "import pandas as pd\n",
    "import os"
   ]
  },
  {
   "cell_type": "code",
   "execution_count": 77,
   "id": "2cace083",
   "metadata": {},
   "outputs": [],
   "source": [
    "covid_cases_age_group = pd.read_csv(\"../data/covid_data/CovidFaelle_Altersgruppe.csv\", names=[\"time\",\"agegroupID\",\"agegroup\",\"state\",\"stateID\",\"num_residents\",\"sex\",\"infected\",\"cured\",\"dead\"], delimiter =\";\",skiprows= 1)\n",
    "covid_cases_timeline = pd.read_csv(\"../data/covid_data/CovidFaelle_Timeline.csv\", names=[\"Time\",\"state\",\"stateID\",\"num_residents\",\"infected\",\"infected_sum\",\"num_infected_last_7_days\",\"incident_last_7_days\"], delimiter =\";\",skiprows= 1)\n",
    "covid_cases_timeline_groupby_disctrict = pd.read_csv(\"../data/covid_data/CovidFaelle_Timeline_GKZ.csv\", names=[\"time\",\"county\",\"district_id\",\"num_residents\",\"infected\",\"infected_sum\",\"num_infected_last_7_days\",\"incident_last_7_daysle\",\"dead\"], delimiter =\";\",skiprows= 1)\n",
    "covid_test_data = pd.read_csv(\"../data/covid_data/CovidFallzahlen.csv\", names=[\"date\",\"num_tests\",\"date_2\",\"FZHosp\",\"FZICU\",\"FZHospFree\",\"FZICUFree\",\"stateID\",\"state\"], delimiter =\";\",skiprows= 1)\n",
    "hospitalization_data = pd.read_csv(\"../data/covid_data/Hospitalisierung.csv\", names=[\"date\",\"stateID\",\"state\",\"occupied_normal_care_hospital_beds\",\"available_intensiv_care_hospital_beds\",\"occupied_intensiv_care_hospital_beds\",\"intensive\"], delimiter =\";\",skiprows= 1)\n",
    "vaccine_data = pd.read_csv(\"../data/covid_data/COVID19_vaccination_doses_timeline.csv\", names=[\"date\",\"state_id\",\"state_name\",\"vaccine\",\"dose_number\",\"doses_administered_cumulative\"], delimiter =\";\",skiprows= 1)\n",
    "demographics_data =  pd.read_csv(\"../data/covid_data/demographic_austria.csv\", names=[\"state\",\"2019\",\"2020\",\"2021\",\"2022\"], delimiter =\";\",skiprows= 1)                                                                                                          \n",
    "                                                                                                            "
   ]
  },
  {
   "cell_type": "code",
   "execution_count": 78,
   "id": "76b5e5a6",
   "metadata": {},
   "outputs": [
    {
     "data": {
      "text/html": [
       "<div>\n",
       "<style scoped>\n",
       "    .dataframe tbody tr th:only-of-type {\n",
       "        vertical-align: middle;\n",
       "    }\n",
       "\n",
       "    .dataframe tbody tr th {\n",
       "        vertical-align: top;\n",
       "    }\n",
       "\n",
       "    .dataframe thead th {\n",
       "        text-align: right;\n",
       "    }\n",
       "</style>\n",
       "<table border=\"1\" class=\"dataframe\">\n",
       "  <thead>\n",
       "    <tr style=\"text-align: right;\">\n",
       "      <th></th>\n",
       "      <th>state</th>\n",
       "      <th>2019</th>\n",
       "      <th>2020</th>\n",
       "      <th>2021</th>\n",
       "      <th>2022</th>\n",
       "    </tr>\n",
       "  </thead>\n",
       "  <tbody>\n",
       "    <tr>\n",
       "      <th>0</th>\n",
       "      <td>Österreich</td>\n",
       "      <td>8858775</td>\n",
       "      <td>8901064</td>\n",
       "      <td>8932664</td>\n",
       "      <td>9090868</td>\n",
       "    </tr>\n",
       "    <tr>\n",
       "      <th>1</th>\n",
       "      <td>Burgenland</td>\n",
       "      <td>293433</td>\n",
       "      <td>294436</td>\n",
       "      <td>296010</td>\n",
       "      <td>301203</td>\n",
       "    </tr>\n",
       "    <tr>\n",
       "      <th>2</th>\n",
       "      <td>Kärnten</td>\n",
       "      <td>560939</td>\n",
       "      <td>561293</td>\n",
       "      <td>562089</td>\n",
       "      <td>568946</td>\n",
       "    </tr>\n",
       "    <tr>\n",
       "      <th>3</th>\n",
       "      <td>Niederösterreich</td>\n",
       "      <td>1677542</td>\n",
       "      <td>1684287</td>\n",
       "      <td>1690879</td>\n",
       "      <td>1717617</td>\n",
       "    </tr>\n",
       "    <tr>\n",
       "      <th>4</th>\n",
       "      <td>Oberösterreich</td>\n",
       "      <td>1482095</td>\n",
       "      <td>1490279</td>\n",
       "      <td>1495608</td>\n",
       "      <td>1521843</td>\n",
       "    </tr>\n",
       "  </tbody>\n",
       "</table>\n",
       "</div>"
      ],
      "text/plain": [
       "              state     2019     2020     2021     2022\n",
       "0        Österreich  8858775  8901064  8932664  9090868\n",
       "1        Burgenland   293433   294436   296010   301203\n",
       "2           Kärnten   560939   561293   562089   568946\n",
       "3  Niederösterreich  1677542  1684287  1690879  1717617\n",
       "4    Oberösterreich  1482095  1490279  1495608  1521843"
      ]
     },
     "execution_count": 78,
     "metadata": {},
     "output_type": "execute_result"
    }
   ],
   "source": [
    "demographics_data.head()"
   ]
  },
  {
   "cell_type": "code",
   "execution_count": 80,
   "id": "b74006e1",
   "metadata": {},
   "outputs": [
    {
     "name": "stdout",
     "output_type": "stream",
     "text": [
      "1978000\n",
      "79120\n",
      "836694\n",
      "85950\n",
      "45990\n",
      "1354320\n",
      "50\n"
     ]
    }
   ],
   "source": [
    "print(covid_cases_age_group.size)\n",
    "print(covid_cases_timeline.size)\n",
    "print(covid_cases_timeline_groupby_disctrict.size)\n",
    "print(covid_test_data.size)\n",
    "print(hospitalization_data.size)\n",
    "print(vaccine_data.size)\n",
    "print(demographics_data.size)"
   ]
  },
  {
   "cell_type": "code",
   "execution_count": 79,
   "id": "2e43236e",
   "metadata": {},
   "outputs": [
    {
     "name": "stdout",
     "output_type": "stream",
     "text": [
      "RangeIndex(start=0, stop=197800, step=1)\n",
      "MultiIndex([('26.02.2020 00:00:00',       'Burgenland',  1,  299235),\n",
      "            ('26.02.2020 00:00:00',          'Kärnten',  2,  566166),\n",
      "            ('26.02.2020 00:00:00', 'Niederösterreich',  3, 1708140),\n",
      "            ('26.02.2020 00:00:00',   'Oberösterreich',  4, 1512226),\n",
      "            ('26.02.2020 00:00:00',         'Salzburg',  5,  564293),\n",
      "            ('26.02.2020 00:00:00',       'Steiermark',  6, 1256890),\n",
      "            ('26.02.2020 00:00:00',            'Tirol',  7,  766492),\n",
      "            ('26.02.2020 00:00:00',       'Vorarlberg',  8,  403203),\n",
      "            ('26.02.2020 00:00:00',             'Wien',  9, 1951354),\n",
      "            ('26.02.2020 00:00:00',       'Österreich', 10, 9027999),\n",
      "            ...\n",
      "            ('10.11.2022 00:00:00',       'Burgenland',  1,  299235),\n",
      "            ('10.11.2022 00:00:00',          'Kärnten',  2,  566166),\n",
      "            ('10.11.2022 00:00:00', 'Niederösterreich',  3, 1708140),\n",
      "            ('10.11.2022 00:00:00',   'Oberösterreich',  4, 1512226),\n",
      "            ('10.11.2022 00:00:00',         'Salzburg',  5,  564293),\n",
      "            ('10.11.2022 00:00:00',       'Steiermark',  6, 1256890),\n",
      "            ('10.11.2022 00:00:00',            'Tirol',  7,  766492),\n",
      "            ('10.11.2022 00:00:00',       'Vorarlberg',  8,  403203),\n",
      "            ('10.11.2022 00:00:00',             'Wien',  9, 1951354),\n",
      "            ('10.11.2022 00:00:00',       'Österreich', 10, 9027999)],\n",
      "           length=9890)\n",
      "MultiIndex([('26.02.2020 00:00:00',   'Eisenstadt(Stadt)', 101),\n",
      "            ('26.02.2020 00:00:00',         'Rust(Stadt)', 102),\n",
      "            ('26.02.2020 00:00:00', 'Eisenstadt-Umgebung', 103),\n",
      "            ('26.02.2020 00:00:00',             'Güssing', 104),\n",
      "            ('26.02.2020 00:00:00',         'Jennersdorf', 105),\n",
      "            ('26.02.2020 00:00:00',         'Mattersburg', 106),\n",
      "            ('26.02.2020 00:00:00',     'Neusiedl am See', 107),\n",
      "            ('26.02.2020 00:00:00',      'Oberpullendorf', 108),\n",
      "            ('26.02.2020 00:00:00',            'Oberwart', 109),\n",
      "            ('26.02.2020 00:00:00',    'Klagenfurt Stadt', 201),\n",
      "            ...\n",
      "            ('10.11.2022 00:00:00',            'Kufstein', 705),\n",
      "            ('10.11.2022 00:00:00',             'Landeck', 706),\n",
      "            ('10.11.2022 00:00:00',               'Lienz', 707),\n",
      "            ('10.11.2022 00:00:00',              'Reutte', 708),\n",
      "            ('10.11.2022 00:00:00',              'Schwaz', 709),\n",
      "            ('10.11.2022 00:00:00',             'Bludenz', 801),\n",
      "            ('10.11.2022 00:00:00',             'Bregenz', 802),\n",
      "            ('10.11.2022 00:00:00',            'Dornbirn', 803),\n",
      "            ('10.11.2022 00:00:00',           'Feldkirch', 804),\n",
      "            ('10.11.2022 00:00:00',                'Wien', 900)],\n",
      "           length=92966)\n",
      "RangeIndex(start=0, stop=989, step=1)\n",
      "RangeIndex(start=0, stop=9550, step=1)\n",
      "MultiIndex([('24.01.2021 00:00:00',  1),\n",
      "            ('24.01.2021 00:00:00',  2),\n",
      "            ('24.01.2021 00:00:00',  3),\n",
      "            ('24.01.2021 00:00:00',  4),\n",
      "            ('24.01.2021 00:00:00',  5),\n",
      "            ('24.01.2021 00:00:00',  6),\n",
      "            ('24.01.2021 00:00:00',  7),\n",
      "            ('24.01.2021 00:00:00',  8),\n",
      "            ('24.01.2021 00:00:00',  9),\n",
      "            ('24.01.2021 00:00:00', 10),\n",
      "            ...\n",
      "            ('11.11.2022 00:00:00',  1),\n",
      "            ('11.11.2022 00:00:00',  2),\n",
      "            ('11.11.2022 00:00:00',  3),\n",
      "            ('11.11.2022 00:00:00',  4),\n",
      "            ('11.11.2022 00:00:00',  5),\n",
      "            ('11.11.2022 00:00:00',  6),\n",
      "            ('11.11.2022 00:00:00',  7),\n",
      "            ('11.11.2022 00:00:00',  8),\n",
      "            ('11.11.2022 00:00:00',  9),\n",
      "            ('11.11.2022 00:00:00', 10)],\n",
      "           length=6570)\n",
      "RangeIndex(start=0, stop=10, step=1)\n"
     ]
    }
   ],
   "source": [
    "print(covid_cases_age_group.index)\n",
    "print(covid_cases_timeline.index)\n",
    "print(covid_cases_timeline_groupby_disctrict.index)\n",
    "print(delta_cases.index)\n",
    "print(covid_test_data.index)\n",
    "print(hospitalization_data.index)\n",
    "print(demographics_data.index)"
   ]
  }
 ],
 "metadata": {
  "kernelspec": {
   "display_name": "Python 3 (ipykernel)",
   "language": "python",
   "name": "python3"
  },
  "language_info": {
   "codemirror_mode": {
    "name": "ipython",
    "version": 3
   },
   "file_extension": ".py",
   "mimetype": "text/x-python",
   "name": "python",
   "nbconvert_exporter": "python",
   "pygments_lexer": "ipython3",
   "version": "3.9.12"
  }
 },
 "nbformat": 4,
 "nbformat_minor": 5
}
