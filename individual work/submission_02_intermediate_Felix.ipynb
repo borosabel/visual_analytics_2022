{
 "cells": [
  {
   "cell_type": "markdown",
   "id": "412fff68-e520-4a84-a3cd-3d276d5b2beb",
   "metadata": {},
   "source": [
    "# Submission 2 - Intermediate"
   ]
  },
  {
   "cell_type": "markdown",
   "id": "cdb55844-67b1-47a2-8945-76eb91bd1bf1",
   "metadata": {},
   "source": [
    "**Instructions**\n",
    "- Fill out the 'Basic Information' and 'Simple Hypotheses - Findings / Insights' sections (replace the TODOs with your information)\n",
    "  - If your visualization is interactive, create a short video that shows the interactivity (max. 3 min).\n",
    "- Export the Jupyter notebook as a HTML file and save it in this repository.\n",
    "  - Go to 'File' -> 'Save and Export Notebook As..' -> 'HTML'.\n",
    "  - Save it locally in your project folder. You can leave the name as it is.\n",
    "  - If you have a video, then add it to the project folder.\n",
    "  - Push your local changes to the GitHub repository.\n",
    "- Upload the generated HTML for the Moodle submission.\n",
    "  - If you have a video, then upload that for the Moodle submission, too."
   ]
  },
  {
   "cell_type": "markdown",
   "id": "8aa83fea-80cf-4296-9765-410daf7c296d",
   "metadata": {},
   "source": [
    "---\n",
    "## Basic Information"
   ]
  },
  {
   "cell_type": "markdown",
   "id": "99b65e2d-2bee-4e12-ac82-8b31b972d850",
   "metadata": {},
   "source": [
    "**Team Name:** TODO"
   ]
  },
  {
   "cell_type": "markdown",
   "id": "230d9ba1-6ba9-4708-b8d8-39d9502fab44",
   "metadata": {},
   "source": [
    "**Team Members:**\n",
    "- TODO\n",
    "- TODO\n",
    "- TODO\n",
    "- TODO"
   ]
  },
  {
   "cell_type": "markdown",
   "id": "ec9668fc-28d6-4adf-ae4d-aafb4781f936",
   "metadata": {},
   "source": [
    "**Dataset Description:**  \n",
    "(max. 75 words)"
   ]
  },
  {
   "cell_type": "markdown",
   "id": "4bbce0ac-0a1e-455e-bcd3-5a258cb033ec",
   "metadata": {},
   "source": [
    "TODO"
   ]
  },
  {
   "cell_type": "markdown",
   "id": "04352fd2-6482-423f-8def-6f713c65c597",
   "metadata": {},
   "source": [
    "---\n",
    "## Simple Hypotheses - Findings / Insights"
   ]
  },
  {
   "cell_type": "markdown",
   "id": "a62879c1-44e0-4c88-99b3-d55be41eed85",
   "metadata": {},
   "source": [
    "**Instructions:**\n",
    "- Add your visualizations (**max. 4**) here\n",
    "  - The visualizations should show the findings / insights\n",
    "- Add the descriptions for all your findings / insights (**max. 150 words**)\n",
    "  - The description should also relate to the visualizations above."
   ]
  },
  {
   "cell_type": "markdown",
   "id": "2b170d32-4ad8-479c-aae8-35b9b816db82",
   "metadata": {
    "tags": []
   },
   "source": [
    "### Visualizations"
   ]
  },
  {
   "cell_type": "markdown",
   "id": "ef118cbe-a9a6-40b6-81a5-68907331a669",
   "metadata": {},
   "source": [
    "TODO"
   ]
  },
  {
   "cell_type": "markdown",
   "id": "cb7a2861-c731-4858-8ca9-4fca8e5190ae",
   "metadata": {},
   "source": [
    "### Description"
   ]
  },
  {
   "cell_type": "markdown",
   "id": "45801f81-8025-4af6-b318-836c50d56edd",
   "metadata": {},
   "source": [
    "TODO"
   ]
  },
  {
   "cell_type": "markdown",
   "id": "8cb48edc",
   "metadata": {},
   "source": [
    "## Load Data"
   ]
  },
  {
   "cell_type": "code",
   "execution_count": 1,
   "id": "beab1caa",
   "metadata": {},
   "outputs": [],
   "source": [
    "import numpy as np\n",
    "import pandas as pd\n",
    "import os\n",
    "import matplotlib.colors\n",
    "import datetime as dt\n",
    "\n",
    "import matplotlib.pyplot as plt\n",
    "from matplotlib.collections import LineCollection\n",
    "from matplotlib.colors import ListedColormap, BoundaryNorm"
   ]
  },
  {
   "cell_type": "code",
   "execution_count": 2,
   "id": "6ebdfe5a",
   "metadata": {},
   "outputs": [],
   "source": [
    "covid_cases_age_group = pd.read_csv(\"../data/covid_data/CovidFaelle_Altersgruppe.csv\", names=[\"time\",\"agegroupID\",\"agegroup\",\"state\",\"stateID\",\"num_residents\",\"sex\",\"infected\",\"cured\",\"dead\"], delimiter =\";\",skiprows= 1)\n",
    "covid_cases_timeline = pd.read_csv(\"../data/covid_data/CovidFaelle_Timeline_edited_2.csv\", names=[\"Time\",\"state\",\"stateID\",\"num_residents\",\"infected\",\"infected_sum\",\"num_infected_last_7_days\",\"incident_last_7_days\",\"daily_death_count\",\"dead_sum\",\"daily_healed\",\"healed_sum\"], delimiter =\";\",skiprows= 1)\n",
    "covid_cases_timeline_groupby_disctrict = pd.read_csv(\"../data/covid_data/CovidFaelle_Timeline_GKZ.csv\", names=[\"time\",\"county\",\"district_id\",\"num_residents\",\"infected\",\"infected_sum\",\"num_infected_last_7_days\",\"incident_last_7_daysle\",\"dead\"], delimiter =\";\",skiprows= 1)\n",
    "covid_test_data = pd.read_csv(\"../data/covid_data/CovidFallzahlen.csv\", names=[\"date\",\"num_tests\",\"date_2\",\"FZHosp\",\"FZICU\",\"FZHospFree\",\"FZICUFree\",\"stateID\",\"state\"], delimiter =\";\",skiprows= 1)\n",
    "hospitalization_data = pd.read_csv(\"../data/covid_data/Hospitalisierung.csv\", names=[\"date\",\"stateID\",\"state\",\"occupied_normal_care_hospital_beds\",\"available_intensiv_care_hospital_beds\",\"occupied_intensiv_care_hospital_beds\",\"intensive\"], delimiter =\";\",skiprows= 1)\n",
    "vaccine_data = pd.read_csv(\"../data/covid_data/COVID19_vaccination_doses_timeline.csv\", names=[\"date\",\"state_id\",\"state_name\",\"vaccine\",\"dose_number\",\"doses_administered_cumulative\"], delimiter =\";\",skiprows= 1)\n",
    "demographics_data =  pd.read_csv(\"../data/covid_data/demographic_austria.csv\", names=[\"state\",\"2019\",\"2020\",\"2021\",\"2022\"], delimiter =\";\",skiprows= 1)                                                                                                          \n",
    "                                                                                                            "
   ]
  },
  {
   "cell_type": "markdown",
   "id": "2e52292c",
   "metadata": {},
   "source": [
    "### First analysis and clean-up"
   ]
  },
  {
   "cell_type": "markdown",
   "id": "26495f4f",
   "metadata": {},
   "source": [
    "Hypothesis to investigate \"The number of new daily Covid-19 infections in Austria does vary between seasons\""
   ]
  },
  {
   "cell_type": "code",
   "execution_count": 3,
   "id": "45a82166",
   "metadata": {},
   "outputs": [
    {
     "data": {
      "text/html": [
       "<div>\n",
       "<style scoped>\n",
       "    .dataframe tbody tr th:only-of-type {\n",
       "        vertical-align: middle;\n",
       "    }\n",
       "\n",
       "    .dataframe tbody tr th {\n",
       "        vertical-align: top;\n",
       "    }\n",
       "\n",
       "    .dataframe thead th {\n",
       "        text-align: right;\n",
       "    }\n",
       "</style>\n",
       "<table border=\"1\" class=\"dataframe\">\n",
       "  <thead>\n",
       "    <tr style=\"text-align: right;\">\n",
       "      <th></th>\n",
       "      <th>Time</th>\n",
       "      <th>infected</th>\n",
       "    </tr>\n",
       "  </thead>\n",
       "  <tbody>\n",
       "    <tr>\n",
       "      <th>0</th>\n",
       "      <td>2020-01-01</td>\n",
       "      <td>0</td>\n",
       "    </tr>\n",
       "    <tr>\n",
       "      <th>1</th>\n",
       "      <td>2020-01-02</td>\n",
       "      <td>0</td>\n",
       "    </tr>\n",
       "    <tr>\n",
       "      <th>2</th>\n",
       "      <td>2020-01-03</td>\n",
       "      <td>0</td>\n",
       "    </tr>\n",
       "    <tr>\n",
       "      <th>3</th>\n",
       "      <td>2020-01-04</td>\n",
       "      <td>0</td>\n",
       "    </tr>\n",
       "    <tr>\n",
       "      <th>4</th>\n",
       "      <td>2020-01-05</td>\n",
       "      <td>0</td>\n",
       "    </tr>\n",
       "    <tr>\n",
       "      <th>...</th>\n",
       "      <td>...</td>\n",
       "      <td>...</td>\n",
       "    </tr>\n",
       "    <tr>\n",
       "      <th>9992</th>\n",
       "      <td>2022-12-27</td>\n",
       "      <td>0</td>\n",
       "    </tr>\n",
       "    <tr>\n",
       "      <th>9993</th>\n",
       "      <td>2022-12-28</td>\n",
       "      <td>0</td>\n",
       "    </tr>\n",
       "    <tr>\n",
       "      <th>9994</th>\n",
       "      <td>2022-12-29</td>\n",
       "      <td>0</td>\n",
       "    </tr>\n",
       "    <tr>\n",
       "      <th>9995</th>\n",
       "      <td>2022-12-30</td>\n",
       "      <td>0</td>\n",
       "    </tr>\n",
       "    <tr>\n",
       "      <th>9996</th>\n",
       "      <td>2022-12-31</td>\n",
       "      <td>0</td>\n",
       "    </tr>\n",
       "  </tbody>\n",
       "</table>\n",
       "<p>9997 rows × 2 columns</p>\n",
       "</div>"
      ],
      "text/plain": [
       "           Time  infected\n",
       "0    2020-01-01         0\n",
       "1    2020-01-02         0\n",
       "2    2020-01-03         0\n",
       "3    2020-01-04         0\n",
       "4    2020-01-05         0\n",
       "...         ...       ...\n",
       "9992 2022-12-27         0\n",
       "9993 2022-12-28         0\n",
       "9994 2022-12-29         0\n",
       "9995 2022-12-30         0\n",
       "9996 2022-12-31         0\n",
       "\n",
       "[9997 rows x 2 columns]"
      ]
     },
     "execution_count": 3,
     "metadata": {},
     "output_type": "execute_result"
    }
   ],
   "source": [
    "df = covid_cases_timeline.copy()\n",
    "df_clean = df.drop(columns = ['state', 'stateID', 'num_residents', 'infected_sum', 'num_infected_last_7_days', 'incident_last_7_days', 'daily_death_count', 'dead_sum', 'daily_healed', 'healed_sum'])\n",
    "df_clean['Time'] = pd.to_datetime(df_clean['Time'],format='%d.%m.%Y')\n",
    "df_clean"
   ]
  },
  {
   "cell_type": "code",
   "execution_count": 4,
   "id": "877ccaf6",
   "metadata": {},
   "outputs": [],
   "source": [
    "# mask_2020 = (df_clean['Time'] >= '01.01.2020') & (df_clean['Time'] <= '31.12.2020')\n",
    "# mask_2021 = (df_clean['Time'] >= '01.01.2021') & (df_clean['Time'] < '31.12.2021')\n",
    "# mask_2022 = (df_clean['Time'] >= '01.01.2022') & (df_clean['Time'] <= '31.12.2022')\n",
    "\n",
    "# df_aggregated_2020 = df_clean[mask_2020]\n",
    "# df_aggregated_2021 = df_clean[mask_2021]\n",
    "# df_aggregated_2022 =df_clean[mask_2022]"
   ]
  },
  {
   "cell_type": "code",
   "execution_count": 5,
   "id": "fa637398",
   "metadata": {},
   "outputs": [],
   "source": [
    "# df_aggregated_2020_test = df_aggregated_2020.copy()\n",
    "# pd.to_datetime(df_aggregated_2020_test['Time'])\n",
    "# df_aggregated_2020_test = df_aggregated_2020_test.set_index('Time')\n",
    "# df_aggregated_2020_test = df_aggregated_2020_test.groupby(pd.Grouper(freq='M'))['infected'].sum().reset_index()\n",
    "\n",
    "# df_aggregated_2021_test = df_aggregated_2021.copy()\n",
    "# pd.to_datetime(df_aggregated_2021_test['Time'])\n",
    "# df_aggregated_2021_test = df_aggregated_2021_test.set_index('Time')\n",
    "# df_aggregated_2021_test = df_aggregated_2021_test.groupby(pd.Grouper(freq='M'))['infected'].sum().reset_index()\n",
    "\n",
    "# df_aggregated_2022_test = df_aggregated_2022.copy()\n",
    "# pd.to_datetime(df_aggregated_2022_test['Time'])\n",
    "# df_aggregated_2022_test = df_aggregated_2022_test.set_index('Time')\n",
    "# df_aggregated_2022_test = df_aggregated_2022_test.groupby(pd.Grouper(freq='M'))['infected'].sum().reset_index()\n"
   ]
  },
  {
   "cell_type": "code",
   "execution_count": 6,
   "id": "e7efdded",
   "metadata": {},
   "outputs": [],
   "source": [
    "# Y = df_aggregated_2020_test['infected']\n",
    "# X = df_aggregated_2020_test['Time']\n",
    " \n",
    "# plt.figure(figsize=(25,8))\n",
    " \n",
    "# ax = plt.axes()\n",
    "# ax.grid(linewidth=0.4, color='#8f8f8f')\n",
    " \n",
    "# #ax.set_facecolor(\"black\")\n",
    "# ax.set_xlabel('\\nDate',size=25,color='#4bb4f2')\n",
    "# ax.set_ylabel('Number of Confirmed Cases\\n',\n",
    "#               size=25,color='#4bb4f2')\n",
    " \n",
    "# ax.plot(X,Y,\n",
    "#         color='#1F77B4',\n",
    "#         marker='o',\n",
    "#         linewidth=4,\n",
    "#         markersize=15,\n",
    "#         markeredgecolor='#035E9B')"
   ]
  },
  {
   "cell_type": "code",
   "execution_count": 7,
   "id": "5c1d9ccf",
   "metadata": {},
   "outputs": [],
   "source": [
    "# Y = df_aggregated_2020_test['infected']\n",
    "# X = df_aggregated_2020_test['Time']\n",
    "\n",
    "# Z = df_aggregated_2021_test['infected']\n",
    "# V = df_aggregated_2022_test['infected']\n",
    "\n",
    "# plt.figure(figsize=(35,15))\n",
    " \n",
    "# ax = plt.axes()\n",
    "# ax.grid(linewidth=0.4, color='#8f8f8f')\n",
    " \n",
    "# #ax.set_facecolor(\"black\")\n",
    "# ax.set_xlabel('\\nMonth',size=20,color='k')\n",
    "# ax.set_ylabel('Number of Confirmed Cases\\n',\n",
    "#               size=20,color='k')\n",
    " \n",
    "# ax.plot(X,Y,\n",
    "#         color='c',\n",
    "#         #marker='o',\n",
    "#         linewidth=4,\n",
    "#         markersize=15,\n",
    "#         markeredgecolor='#035E9B')\n",
    "\n",
    "# ax.plot(X,Z,\n",
    "#         color='g',\n",
    "#         #marker='o',\n",
    "#         linewidth=4,\n",
    "#         markersize=15,\n",
    "#         markeredgecolor='#035E9B')\n",
    "\n",
    "# ax.plot(X,V,\n",
    "#         color='r',\n",
    "#         #marker='o',\n",
    "#         linewidth=4,\n",
    "#         markersize=15,\n",
    "#         markeredgecolor='#035E9B')"
   ]
  },
  {
   "cell_type": "code",
   "execution_count": 8,
   "id": "73149382",
   "metadata": {},
   "outputs": [],
   "source": [
    "# Y = df_aggregated_2022_test['infected']\n",
    "# X = df_aggregated_2022_test['Time']\n",
    " \n",
    "# plt.figure(figsize=(25,8))\n",
    " \n",
    "# ax = plt.axes()\n",
    "# ax.grid(linewidth=0.4, color='#8f8f8f')\n",
    "\n",
    "\n",
    "# for i in df_aggregated_2022_test['Time']:\n",
    "#     ax.axhspan(i,i, facecolor='0.2', alpha=0.5)\n",
    "#     ax.axvspan(i,i, facecolor='b', alpha=0.5)\n",
    "\n",
    "\n",
    "\n",
    "# #ax.set_facecolor(\"black\")\n",
    "# ax.set_xlabel('\\nDate',size=25,color='#4bb4f2')\n",
    "# ax.set_ylabel('Number of Confirmed Cases\\n',\n",
    "#               size=25,color='#4bb4f2')\n",
    " \n",
    "# ax.plot(X,Y,\n",
    "#         color='#1F77B4',\n",
    "#         marker='o',\n",
    "#         linewidth=4,\n",
    "#         markersize=15,\n",
    "#         markeredgecolor='#035E9B')"
   ]
  },
  {
   "cell_type": "markdown",
   "id": "2c36e381",
   "metadata": {},
   "source": [
    "##  Groub by month"
   ]
  },
  {
   "cell_type": "code",
   "execution_count": 9,
   "id": "1a0ca6fa",
   "metadata": {},
   "outputs": [],
   "source": [
    "# df_sum = df_clean.copy()\n",
    "# pd.to_datetime(df_sum['Time'])\n",
    "# df_sum = df_sum.set_index('Time')\n",
    "# df_sum = df_sum.groupby(pd.Grouper(freq='W-MON'))['infected'].sum().reset_index()"
   ]
  },
  {
   "cell_type": "code",
   "execution_count": null,
   "id": "051d5e6e",
   "metadata": {},
   "outputs": [],
   "source": []
  },
  {
   "cell_type": "code",
   "execution_count": 10,
   "id": "b4b41856",
   "metadata": {},
   "outputs": [],
   "source": [
    "# bounds = [2020,2021,2022]\n",
    "# colors = [\"darkorchid\", \"crimson\", \"limegreen\"]\n",
    "# cmap = matplotlib.colors.ListedColormap(colors)\n",
    "# norm = matplotlib.colors.BoundaryNorm(bounds, len(colors))"
   ]
  },
  {
   "cell_type": "code",
   "execution_count": 11,
   "id": "84bd55de",
   "metadata": {},
   "outputs": [],
   "source": [
    "# Y = df_sum['infected']\n",
    "# X = df_sum['Time']\n",
    " \n",
    "# plt.figure(figsize=(25,8))\n",
    " \n",
    "# ax = plt.axes()\n",
    "# ax.grid(linewidth=0.4, color='#8f8f8f')\n",
    " \n",
    "# #ax.set_facecolor(\"black\")\n",
    "# ax.set_xlabel('\\nweek',size=25,color='k')\n",
    "# ax.set_ylabel('Number of Confirmed Cases\\n',\n",
    "#               size=25,color='k')\n",
    "# #plt.xticks(X, my_xticks)\n",
    "\n",
    "\n",
    "# plt.axvline(dt.datetime(2021, 1, 1))\n",
    "# plt.axvline(dt.datetime(2022, 1, 1))\n",
    "\n",
    "# ax.plot(X,Y,\n",
    "#         color='k',\n",
    "#         #marker='o',\n",
    "#         linewidth=4,\n",
    "#         markersize=15,\n",
    "#         markeredgecolor='k',\n",
    "#         cmap = cmap,\n",
    "#         norm=norm)"
   ]
  },
  {
   "cell_type": "code",
   "execution_count": 12,
   "id": "9324b1e6",
   "metadata": {},
   "outputs": [],
   "source": [
    "df_sum = df_clean.copy()\n",
    "pd.to_datetime(df_sum['Time'])\n",
    "df_sum = df_sum.set_index('Time')\n",
    "df_sum = df_sum.groupby(pd.Grouper(freq='W-MON'))['infected'].sum().reset_index()"
   ]
  },
  {
   "cell_type": "code",
   "execution_count": 13,
   "id": "ee45fd15",
   "metadata": {},
   "outputs": [
    {
     "name": "stderr",
     "output_type": "stream",
     "text": [
      "C:\\Users\\felix\\anaconda3\\lib\\site-packages\\pandas\\core\\arraylike.py:52: UserWarning: Parsing '31.12.2020' in DD/MM/YYYY format. Provide format or specify infer_datetime_format=True for consistent parsing.\n",
      "  return self._cmp_method(other, operator.le)\n",
      "C:\\Users\\felix\\anaconda3\\lib\\site-packages\\pandas\\core\\arraylike.py:48: UserWarning: Parsing '31.12.2021' in DD/MM/YYYY format. Provide format or specify infer_datetime_format=True for consistent parsing.\n",
      "  return self._cmp_method(other, operator.lt)\n",
      "C:\\Users\\felix\\anaconda3\\lib\\site-packages\\pandas\\core\\arraylike.py:52: UserWarning: Parsing '31.12.2022' in DD/MM/YYYY format. Provide format or specify infer_datetime_format=True for consistent parsing.\n",
      "  return self._cmp_method(other, operator.le)\n"
     ]
    }
   ],
   "source": [
    "mask_2020_month = (df_sum['Time'] >= '01.01.2020') & (df_sum['Time'] <= '31.12.2020')\n",
    "mask_2021_month = (df_sum['Time'] >= '01.01.2021') & (df_sum['Time'] < '31.12.2021')\n",
    "mask_2022_month = (df_sum['Time'] >= '01.01.2022') & (df_sum['Time'] <= '31.12.2022')\n",
    "\n",
    "\n",
    "\n",
    "df_aggregated_2020_month_first = df_sum[mask_2020_month]\n",
    "df_aggregated_2021_month_first = df_sum[mask_2021_month]\n",
    "df_aggregated_2022_month_first = df_sum[mask_2022_month]"
   ]
  },
  {
   "cell_type": "code",
   "execution_count": 14,
   "id": "1f898865",
   "metadata": {},
   "outputs": [],
   "source": [
    "df_aggregated_2020_month = df_aggregated_2020_month_first.copy()\n",
    "pd.to_datetime(df_aggregated_2020_month['Time'])\n",
    "df_aggregated_2020_month = df_aggregated_2020_month.set_index('Time')\n",
    "df_aggregated_2020_month = df_aggregated_2020_month.groupby(pd.Grouper(freq='W-MON'))['infected'].sum().reset_index().sort_values(by='Time')\n",
    "\n",
    "df_aggregated_2021_month = df_aggregated_2021_month_first.copy()\n",
    "pd.to_datetime(df_aggregated_2021_month['Time'])\n",
    "df_aggregated_2021_month = df_aggregated_2021_month.set_index('Time')\n",
    "df_aggregated_2021_month = df_aggregated_2021_month.groupby(pd.Grouper(freq='W-MON'))['infected'].sum().reset_index().sort_values(by='Time')\n",
    "\n",
    "df_aggregated_2022_month = df_aggregated_2022_month_first.copy()\n",
    "pd.to_datetime(df_aggregated_2022_month['Time'])\n",
    "df_aggregated_2022_month = df_aggregated_2022_month.set_index('Time')\n",
    "df_aggregated_2022_month = df_aggregated_2022_month.groupby(pd.Grouper(freq='W-MON'))['infected'].sum().reset_index().sort_values(by='Time')"
   ]
  },
  {
   "cell_type": "code",
   "execution_count": 15,
   "id": "54959361",
   "metadata": {},
   "outputs": [
    {
     "data": {
      "text/plain": [
       "<matplotlib.legend.Legend at 0x2693db5b250>"
      ]
     },
     "execution_count": 15,
     "metadata": {},
     "output_type": "execute_result"
    },
    {
     "data": {
      "image/png": "[encoded data removed]",
      "text/plain": [
       "<Figure size 2520x1080 with 1 Axes>"
      ]
     },
     "metadata": {
      "needs_background": "light"
     },
     "output_type": "display_data"
    }
   ],
   "source": [
    "X_1 = df_aggregated_2020_month['Time']\n",
    "Y = df_aggregated_2020_month['infected']\n",
    "\n",
    "X_2 = df_aggregated_2021_month['Time']\n",
    "Z = df_aggregated_2021_month['infected']\n",
    "\n",
    "\n",
    "X_3 = df_aggregated_2022_month['Time']\n",
    "V = df_aggregated_2022_month['infected']\n",
    "\n",
    "plt.figure(figsize=(35,15))\n",
    " \n",
    "ax = plt.axes()\n",
    "ax.grid(linewidth=0.4, color='#8f8f8f')\n",
    "ax.set_title(\"Number of Covid-19 infections varying by season\",fontsize=40)\n",
    " \n",
    "#ax.set_facecolor(\"black\")\n",
    "ax.set_xlabel('\\nweek',size=20,color='k')\n",
    "ax.set_ylabel('Number of Confirmed Cases\\n',\n",
    "              size=20,color='k')\n",
    "\n",
    "\n",
    "plt.axvline(dt.datetime(2021, 1, 1))\n",
    "plt.axvline(dt.datetime(2022, 1, 1))\n",
    " \n",
    "ax.plot(X_1,Y,\n",
    "        color='c',\n",
    "        #marker='o',\n",
    "        linewidth=4,\n",
    "        markersize=15,\n",
    "        markeredgecolor='#035E9B',\n",
    "        label='2020')\n",
    "\n",
    "ax.plot(X_2,Z,\n",
    "        color='g',\n",
    "        #marker='o',\n",
    "        linewidth=4,\n",
    "        markersize=40,\n",
    "        markeredgecolor='#035E9B',\n",
    "        label='2021')\n",
    "\n",
    "ax.plot(X_3,V,\n",
    "        color='r',\n",
    "        #marker='o',\n",
    "        linewidth=4,\n",
    "        markersize=40,\n",
    "        markeredgecolor='#035E9B',\n",
    "        label='2022')\n",
    "\n",
    "plt.legend(loc='upper right',prop={'size': 30})"
   ]
  }
 ],
 "metadata": {
  "kernelspec": {
   "display_name": "Python 3 (ipykernel)",
   "language": "python",
   "name": "python3"
  },
  "language_info": {
   "codemirror_mode": {
    "name": "ipython",
    "version": 3
   },
   "file_extension": ".py",
   "mimetype": "text/x-python",
   "name": "python",
   "nbconvert_exporter": "python",
   "pygments_lexer": "ipython3",
   "version": "3.9.12"
  }
 },
 "nbformat": 4,
 "nbformat_minor": 5
}
