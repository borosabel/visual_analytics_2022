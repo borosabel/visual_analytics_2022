{
 "cells": [
  {
   "cell_type": "markdown",
   "id": "412fff68-e520-4a84-a3cd-3d276d5b2beb",
   "metadata": {},
   "source": [
    "# Submission 2 - Intermediate"
   ]
  },
  {
   "cell_type": "markdown",
   "id": "cdb55844-67b1-47a2-8945-76eb91bd1bf1",
   "metadata": {},
   "source": [
    "**Instructions**\n",
    "- Fill out the 'Basic Information' and 'Simple Hypotheses - Findings / Insights' sections (replace the TODOs with your information)\n",
    "  - If your visualization is interactive, create a short video that shows the interactivity (max. 3 min).\n",
    "- Export the Jupyter notebook as a HTML file and save it in this repository.\n",
    "  - Go to 'File' -> 'Save and Export Notebook As..' -> 'HTML'.\n",
    "  - Save it locally in your project folder. You can leave the name as it is.\n",
    "  - If you have a video, then add it to the project folder.\n",
    "  - Push your local changes to the GitHub repository.\n",
    "- Upload the generated HTML for the Moodle submission.\n",
    "  - If you have a video, then upload that for the Moodle submission, too."
   ]
  },
  {
   "cell_type": "markdown",
   "id": "8aa83fea-80cf-4296-9765-410daf7c296d",
   "metadata": {},
   "source": [
    "---\n",
    "## Basic Information"
   ]
  },
  {
   "cell_type": "markdown",
   "id": "99b65e2d-2bee-4e12-ac82-8b31b972d850",
   "metadata": {},
   "source": [
    "**Team Name:** TODO"
   ]
  },
  {
   "cell_type": "markdown",
   "id": "230d9ba1-6ba9-4708-b8d8-39d9502fab44",
   "metadata": {},
   "source": [
    "**Team Members:**\n",
    "- TODO\n",
    "- TODO\n",
    "- TODO\n",
    "- TODO"
   ]
  },
  {
   "cell_type": "markdown",
   "id": "ec9668fc-28d6-4adf-ae4d-aafb4781f936",
   "metadata": {},
   "source": [
    "**Dataset Description:**  \n",
    "(max. 75 words)"
   ]
  },
  {
   "cell_type": "markdown",
   "id": "4bbce0ac-0a1e-455e-bcd3-5a258cb033ec",
   "metadata": {},
   "source": [
    "TODO"
   ]
  },
  {
   "cell_type": "markdown",
   "id": "04352fd2-6482-423f-8def-6f713c65c597",
   "metadata": {},
   "source": [
    "---\n",
    "## Simple Hypotheses - Findings / Insights"
   ]
  },
  {
   "cell_type": "markdown",
   "id": "a62879c1-44e0-4c88-99b3-d55be41eed85",
   "metadata": {},
   "source": [
    "**Instructions:**\n",
    "- Add your visualizations (**max. 4**) here\n",
    "  - The visualizations should show the findings / insights\n",
    "- Add the descriptions for all your findings / insights (**max. 150 words**)\n",
    "  - The description should also relate to the visualizations above."
   ]
  },
  {
   "cell_type": "markdown",
   "id": "2b170d32-4ad8-479c-aae8-35b9b816db82",
   "metadata": {
    "tags": []
   },
   "source": [
    "### Visualizations"
   ]
  },
  {
   "cell_type": "code",
   "execution_count": 8,
   "outputs": [],
   "source": [
    "import pandas as pd\n",
    "import matplotlib.pyplot as plt\n",
    "import numpy as np"
   ],
   "metadata": {
    "collapsed": false
   }
  },
  {
   "cell_type": "code",
   "execution_count": 9,
   "outputs": [
    {
     "data": {
      "text/plain": "                  Time        Bundesland  BundeslandID  AnzEinwohner  \\\n0  26.02.2020 00:00:00        Burgenland             1        299235   \n1  26.02.2020 00:00:00           Kärnten             2        566166   \n2  26.02.2020 00:00:00  Niederösterreich             3       1708140   \n3  26.02.2020 00:00:00    Oberösterreich             4       1512226   \n4  26.02.2020 00:00:00          Salzburg             5        564293   \n\n   AnzahlFaelle  AnzahlFaelleSum  AnzahlFaelle7Tage SiebenTageInzidenzFaelle  \\\n0             0                0                  0                        0   \n1             0                0                  0                        0   \n2             0                0                  0                        0   \n3             0                0                  0                        0   \n4             0                0                  0                        0   \n\n   AnzahlTotTaeglich  AnzahlTotSum  AnzahlGeheiltTaeglich  AnzahlGeheiltSum  \n0                  0             0                      0                 0  \n1                  0             0                      0                 0  \n2                  0             0                      0                 0  \n3                  0             0                      0                 0  \n4                  0             0                      0                 0  ",
      "text/html": "<div>\n<style scoped>\n    .dataframe tbody tr th:only-of-type {\n        vertical-align: middle;\n    }\n\n    .dataframe tbody tr th {\n        vertical-align: top;\n    }\n\n    .dataframe thead th {\n        text-align: right;\n    }\n</style>\n<table border=\"1\" class=\"dataframe\">\n  <thead>\n    <tr style=\"text-align: right;\">\n      <th></th>\n      <th>Time</th>\n      <th>Bundesland</th>\n      <th>BundeslandID</th>\n      <th>AnzEinwohner</th>\n      <th>AnzahlFaelle</th>\n      <th>AnzahlFaelleSum</th>\n      <th>AnzahlFaelle7Tage</th>\n      <th>SiebenTageInzidenzFaelle</th>\n      <th>AnzahlTotTaeglich</th>\n      <th>AnzahlTotSum</th>\n      <th>AnzahlGeheiltTaeglich</th>\n      <th>AnzahlGeheiltSum</th>\n    </tr>\n  </thead>\n  <tbody>\n    <tr>\n      <th>0</th>\n      <td>26.02.2020 00:00:00</td>\n      <td>Burgenland</td>\n      <td>1</td>\n      <td>299235</td>\n      <td>0</td>\n      <td>0</td>\n      <td>0</td>\n      <td>0</td>\n      <td>0</td>\n      <td>0</td>\n      <td>0</td>\n      <td>0</td>\n    </tr>\n    <tr>\n      <th>1</th>\n      <td>26.02.2020 00:00:00</td>\n      <td>Kärnten</td>\n      <td>2</td>\n      <td>566166</td>\n      <td>0</td>\n      <td>0</td>\n      <td>0</td>\n      <td>0</td>\n      <td>0</td>\n      <td>0</td>\n      <td>0</td>\n      <td>0</td>\n    </tr>\n    <tr>\n      <th>2</th>\n      <td>26.02.2020 00:00:00</td>\n      <td>Niederösterreich</td>\n      <td>3</td>\n      <td>1708140</td>\n      <td>0</td>\n      <td>0</td>\n      <td>0</td>\n      <td>0</td>\n      <td>0</td>\n      <td>0</td>\n      <td>0</td>\n      <td>0</td>\n    </tr>\n    <tr>\n      <th>3</th>\n      <td>26.02.2020 00:00:00</td>\n      <td>Oberösterreich</td>\n      <td>4</td>\n      <td>1512226</td>\n      <td>0</td>\n      <td>0</td>\n      <td>0</td>\n      <td>0</td>\n      <td>0</td>\n      <td>0</td>\n      <td>0</td>\n      <td>0</td>\n    </tr>\n    <tr>\n      <th>4</th>\n      <td>26.02.2020 00:00:00</td>\n      <td>Salzburg</td>\n      <td>5</td>\n      <td>564293</td>\n      <td>0</td>\n      <td>0</td>\n      <td>0</td>\n      <td>0</td>\n      <td>0</td>\n      <td>0</td>\n      <td>0</td>\n      <td>0</td>\n    </tr>\n  </tbody>\n</table>\n</div>"
     },
     "execution_count": 9,
     "metadata": {},
     "output_type": "execute_result"
    }
   ],
   "source": [
    "df = pd.read_csv('./CovidFaelle_Timeline.csv', delimiter=';')\n",
    "df.head()"
   ],
   "metadata": {
    "collapsed": false
   }
  },
  {
   "cell_type": "code",
   "execution_count": 10,
   "outputs": [
    {
     "data": {
      "text/plain": "            Time  AnzahlFaelle\n5240   2021-08-3            14\n7743  2022-04-10          1230\n609   2020-04-26            35\n2692  2020-11-21           820\n4287  2021-04-29           157",
      "text/html": "<div>\n<style scoped>\n    .dataframe tbody tr th:only-of-type {\n        vertical-align: middle;\n    }\n\n    .dataframe tbody tr th {\n        vertical-align: top;\n    }\n\n    .dataframe thead th {\n        text-align: right;\n    }\n</style>\n<table border=\"1\" class=\"dataframe\">\n  <thead>\n    <tr style=\"text-align: right;\">\n      <th></th>\n      <th>Time</th>\n      <th>AnzahlFaelle</th>\n    </tr>\n  </thead>\n  <tbody>\n    <tr>\n      <th>5240</th>\n      <td>2021-08-3</td>\n      <td>14</td>\n    </tr>\n    <tr>\n      <th>7743</th>\n      <td>2022-04-10</td>\n      <td>1230</td>\n    </tr>\n    <tr>\n      <th>609</th>\n      <td>2020-04-26</td>\n      <td>35</td>\n    </tr>\n    <tr>\n      <th>2692</th>\n      <td>2020-11-21</td>\n      <td>820</td>\n    </tr>\n    <tr>\n      <th>4287</th>\n      <td>2021-04-29</td>\n      <td>157</td>\n    </tr>\n  </tbody>\n</table>\n</div>"
     },
     "execution_count": 10,
     "metadata": {},
     "output_type": "execute_result"
    }
   ],
   "source": [
    "df = df[['Time', 'AnzahlFaelle']]\n",
    "df['Time'] = df['Time'].str.strip('00:00:00').str.strip(' ')\n",
    "df['Time'] = df['Time'].str.split('.').apply(lambda x: '-'.join((reversed(x))))\n",
    "df.sample(5)"
   ],
   "metadata": {
    "collapsed": false
   }
  },
  {
   "cell_type": "code",
   "execution_count": 11,
   "outputs": [],
   "source": [
    "# seasons\n",
    "df_s = pd.DataFrame({'start':['2020-03-20','2020-06-20','2020-09-22','2020-12-21','2021-03-20','2021-06-21','2021-09-22','2021-12-21','2022-03-20','2022-06-21'], 'end':['2020-06-19','2020-09-21','2020-12-20','2021-03-19','2021-06-20','2021-09-21','2021-12-20','2022-03-19','2022-06-20','2022-09-22']})"
   ],
   "metadata": {
    "collapsed": false
   }
  },
  {
   "cell_type": "code",
   "execution_count": 12,
   "outputs": [],
   "source": [
    "sum_spr_2020 = df.loc[(df['Time'] > df_s['start'][0]) & (df['Time'] < df_s['end'][0])]['AnzahlFaelle'].sum()\n",
    "sum_sum_2020 = df.loc[(df['Time'] > df_s['start'][1]) & (df['Time'] < df_s['end'][1])]['AnzahlFaelle'].sum()\n",
    "sum_aut_2020 = df.loc[(df['Time'] > df_s['start'][2]) & (df['Time'] < df_s['end'][2])]['AnzahlFaelle'].sum()\n",
    "sum_wint_2021 = df.loc[(df['Time'] > df_s['start'][3]) & (df['Time'] < df_s['end'][3])]['AnzahlFaelle'].sum()\n",
    "sum_spr_2021 = df.loc[(df['Time'] > df_s['start'][4]) & (df['Time'] < df_s['end'][4])]['AnzahlFaelle'].sum()\n",
    "sum_sum_2021 = df.loc[(df['Time'] > df_s['start'][5]) & (df['Time'] < df_s['end'][5])]['AnzahlFaelle'].sum()\n",
    "sum_aut_2021 = df.loc[(df['Time'] > df_s['start'][6]) & (df['Time'] < df_s['end'][6])]['AnzahlFaelle'].sum()\n",
    "sum_wint_2022 = df.loc[(df['Time'] > df_s['start'][7]) & (df['Time'] < df_s['end'][7])]['AnzahlFaelle'].sum()\n",
    "sum_spr_2022 = df.loc[(df['Time'] > df_s['start'][8]) & (df['Time'] < df_s['end'][8])]['AnzahlFaelle'].sum()\n",
    "sum_sum_2022 = df.loc[(df['Time'] > df_s['start'][9]) & (df['Time'] < df_s['end'][9])]['AnzahlFaelle'].sum()"
   ],
   "metadata": {
    "collapsed": false
   }
  },
  {
   "cell_type": "code",
   "execution_count": 13,
   "outputs": [],
   "source": [
    "year_2020_sums = [np.nan, sum_spr_2020, sum_sum_2020, sum_aut_2020]\n",
    "year_2021_sums = [sum_wint_2021, sum_spr_2021, sum_sum_2021, sum_aut_2021]\n",
    "year_2022_sums = [sum_wint_2022, sum_spr_2022, sum_sum_2022, np.nan]\n",
    "labels = ['Winter', 'Spring', 'Summer', 'Autumn']"
   ],
   "metadata": {
    "collapsed": false
   }
  },
  {
   "cell_type": "code",
   "execution_count": 14,
   "outputs": [
    {
     "data": {
      "text/plain": "<Figure size 640x480 with 1 Axes>",
      "image/png": "[encoded data removed]"
     },
     "metadata": {},
     "output_type": "display_data"
    }
   ],
   "source": [
    "fig = plt.figure()\n",
    "ax = fig.add_subplot(111)\n",
    "\n",
    "ax.bar(x=labels, height=year_2022_sums, width=0.5, align='center', label='2022', color='#deb0b0')\n",
    "ax.bar(x=labels, height=year_2021_sums, width=0.35, align='center', label='2021', color='#b0c4de')\n",
    "ax.bar(x=labels, height=year_2020_sums, width=0.2, align='center', label='2020', color='#1AA478')\n",
    "\n",
    "plt.xticks(labels)\n",
    "plt.yticks(np.arange(0, sum_wint_2022, 500000))\n",
    "plt.ylabel('Number of infections')\n",
    "\n",
    "current_values = plt.gca().get_yticks()\n",
    "plt.gca().set_yticklabels(['{:.0f}'.format(x) for x in current_values])\n",
    "\n",
    "legend_handles, legend_labels = plt.gca().get_legend_handles_labels()\n",
    "legend_order = [2,1,0]\n",
    "plt.legend([legend_handles[idx] for idx in legend_order],[legend_labels[idx] for idx in legend_order],loc='upper right')\n",
    "\n",
    "plt.show()"
   ],
   "metadata": {
    "collapsed": false
   }
  },
  {
   "cell_type": "markdown",
   "id": "cb7a2861-c731-4858-8ca9-4fca8e5190ae",
   "metadata": {},
   "source": [
    "### Description"
   ]
  },
  {
   "cell_type": "markdown",
   "id": "45801f81-8025-4af6-b318-836c50d56edd",
   "metadata": {},
   "source": [
    "TODO"
   ]
  }
 ],
 "metadata": {
  "kernelspec": {
   "display_name": "Python 3 (ipykernel)",
   "language": "python",
   "name": "python3"
  },
  "language_info": {
   "codemirror_mode": {
    "name": "ipython",
    "version": 3
   },
   "file_extension": ".py",
   "mimetype": "text/x-python",
   "name": "python",
   "nbconvert_exporter": "python",
   "pygments_lexer": "ipython3",
   "version": "3.10.6"
  }
 },
 "nbformat": 4,
 "nbformat_minor": 5
}
