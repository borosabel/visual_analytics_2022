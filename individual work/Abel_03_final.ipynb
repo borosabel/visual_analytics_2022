{
 "cells": [
  {
   "cell_type": "code",
   "execution_count": 23,
   "metadata": {},
   "outputs": [],
   "source": [
    "import pandas as pd\n",
    "import matplotlib.pyplot as plt\n",
    "import shapefile as shp\n",
    "import seaborn as sns\n",
    "import geopandas as gpd\n",
    "from ipywidgets import interact, interact_manual\n",
    "from folium.plugins import StripePattern\n",
    "import ipyleaflet\n",
    "import requests\n",
    "from ipywidgets import link, FloatSlider\n",
    "from branca.colormap import linear\n",
    "import json\n",
    "import warnings\n",
    "warnings.filterwarnings('ignore')"
   ]
  },
  {
   "cell_type": "code",
   "execution_count": 24,
   "metadata": {},
   "outputs": [],
   "source": [
    "df = pd.read_csv('../data/covid_data/CovidFaelle_Altersgruppe.csv', delimiter=';')"
   ]
  },
  {
   "cell_type": "code",
   "execution_count": 25,
   "metadata": {},
   "outputs": [],
   "source": [
    "df_temp = df[(df['Time'] == '10.11.2022 00:00:00')]"
   ]
  },
  {
   "cell_type": "code",
   "execution_count": 26,
   "metadata": {},
   "outputs": [],
   "source": [
    "df_without_total = df_temp[(df_temp['Bundesland'].str.contains('Niederösterreich') == True) | (df_temp['Bundesland'].str.contains('Wien') == True)]"
   ]
  },
  {
   "cell_type": "code",
   "execution_count": 27,
   "metadata": {},
   "outputs": [],
   "source": [
    "df_without_total.sort_values('AltersgruppeID', inplace=True)"
   ]
  },
  {
   "cell_type": "code",
   "execution_count": 29,
   "metadata": {},
   "outputs": [],
   "source": [
    "df_without_total['Altersgruppe'].replace(['<5', '5-14', '15-24', '25-34', '35-44', '45-54', '55-64'], ['<65', '<65', '<65', '<65', '<65', '<65', '<65'], inplace=True)"
   ]
  },
  {
   "cell_type": "code",
   "execution_count": 31,
   "metadata": {},
   "outputs": [],
   "source": [
    "df_without_total.drop(['AltersgruppeID', 'BundeslandID', 'Time'], axis=1, inplace=True)"
   ]
  },
  {
   "cell_type": "code",
   "execution_count": 33,
   "metadata": {},
   "outputs": [],
   "source": [
    "df_without_total = df_without_total.groupby(['Altersgruppe', 'Bundesland', 'Geschlecht']).sum()"
   ]
  },
  {
   "cell_type": "code",
   "execution_count": 34,
   "metadata": {},
   "outputs": [],
   "source": [
    "df_without_total['Proportion of death/100'] = (df_without_total['AnzahlTot'] / df_without_total['AnzEinwohner']) * 100 "
   ]
  },
  {
   "cell_type": "code",
   "execution_count": 35,
   "metadata": {},
   "outputs": [],
   "source": [
    "df_without_total.reset_index(inplace=True)"
   ]
  },
  {
   "cell_type": "code",
   "execution_count": 36,
   "metadata": {},
   "outputs": [],
   "source": [
    "df_temp = df_without_total.drop(['AnzEinwohner', 'Anzahl', 'AnzahlGeheilt', 'AnzahlTot'], axis=1)"
   ]
  },
  {
   "cell_type": "code",
   "execution_count": 37,
   "metadata": {},
   "outputs": [],
   "source": [
    "df_temp.to_csv('data.csv')"
   ]
  },
  {
   "cell_type": "code",
   "execution_count": 38,
   "metadata": {},
   "outputs": [
    {
     "data": {
      "text/html": [
       "<div>\n",
       "<style scoped>\n",
       "    .dataframe tbody tr th:only-of-type {\n",
       "        vertical-align: middle;\n",
       "    }\n",
       "\n",
       "    .dataframe tbody tr th {\n",
       "        vertical-align: top;\n",
       "    }\n",
       "\n",
       "    .dataframe thead th {\n",
       "        text-align: right;\n",
       "    }\n",
       "</style>\n",
       "<table border=\"1\" class=\"dataframe\">\n",
       "  <thead>\n",
       "    <tr style=\"text-align: right;\">\n",
       "      <th></th>\n",
       "      <th>Altersgruppe</th>\n",
       "      <th>Bundesland</th>\n",
       "      <th>Geschlecht</th>\n",
       "      <th>Proportion of death/100</th>\n",
       "    </tr>\n",
       "  </thead>\n",
       "  <tbody>\n",
       "    <tr>\n",
       "      <th>0</th>\n",
       "      <td>65-74</td>\n",
       "      <td>Niederösterreich</td>\n",
       "      <td>M</td>\n",
       "      <td>0.524454</td>\n",
       "    </tr>\n",
       "    <tr>\n",
       "      <th>1</th>\n",
       "      <td>65-74</td>\n",
       "      <td>Niederösterreich</td>\n",
       "      <td>W</td>\n",
       "      <td>0.229511</td>\n",
       "    </tr>\n",
       "    <tr>\n",
       "      <th>2</th>\n",
       "      <td>65-74</td>\n",
       "      <td>Wien</td>\n",
       "      <td>M</td>\n",
       "      <td>0.615776</td>\n",
       "    </tr>\n",
       "    <tr>\n",
       "      <th>3</th>\n",
       "      <td>65-74</td>\n",
       "      <td>Wien</td>\n",
       "      <td>W</td>\n",
       "      <td>0.335242</td>\n",
       "    </tr>\n",
       "    <tr>\n",
       "      <th>4</th>\n",
       "      <td>75-84</td>\n",
       "      <td>Niederösterreich</td>\n",
       "      <td>M</td>\n",
       "      <td>1.405950</td>\n",
       "    </tr>\n",
       "    <tr>\n",
       "      <th>5</th>\n",
       "      <td>75-84</td>\n",
       "      <td>Niederösterreich</td>\n",
       "      <td>W</td>\n",
       "      <td>0.813133</td>\n",
       "    </tr>\n",
       "    <tr>\n",
       "      <th>6</th>\n",
       "      <td>75-84</td>\n",
       "      <td>Wien</td>\n",
       "      <td>M</td>\n",
       "      <td>1.652590</td>\n",
       "    </tr>\n",
       "    <tr>\n",
       "      <th>7</th>\n",
       "      <td>75-84</td>\n",
       "      <td>Wien</td>\n",
       "      <td>W</td>\n",
       "      <td>0.893988</td>\n",
       "    </tr>\n",
       "    <tr>\n",
       "      <th>8</th>\n",
       "      <td>&lt;65</td>\n",
       "      <td>Niederösterreich</td>\n",
       "      <td>M</td>\n",
       "      <td>0.043315</td>\n",
       "    </tr>\n",
       "    <tr>\n",
       "      <th>9</th>\n",
       "      <td>&lt;65</td>\n",
       "      <td>Niederösterreich</td>\n",
       "      <td>W</td>\n",
       "      <td>0.020884</td>\n",
       "    </tr>\n",
       "    <tr>\n",
       "      <th>10</th>\n",
       "      <td>&lt;65</td>\n",
       "      <td>Wien</td>\n",
       "      <td>M</td>\n",
       "      <td>0.038108</td>\n",
       "    </tr>\n",
       "    <tr>\n",
       "      <th>11</th>\n",
       "      <td>&lt;65</td>\n",
       "      <td>Wien</td>\n",
       "      <td>W</td>\n",
       "      <td>0.019054</td>\n",
       "    </tr>\n",
       "    <tr>\n",
       "      <th>12</th>\n",
       "      <td>&gt;84</td>\n",
       "      <td>Niederösterreich</td>\n",
       "      <td>M</td>\n",
       "      <td>4.444732</td>\n",
       "    </tr>\n",
       "    <tr>\n",
       "      <th>13</th>\n",
       "      <td>&gt;84</td>\n",
       "      <td>Niederösterreich</td>\n",
       "      <td>W</td>\n",
       "      <td>3.392027</td>\n",
       "    </tr>\n",
       "    <tr>\n",
       "      <th>14</th>\n",
       "      <td>&gt;84</td>\n",
       "      <td>Wien</td>\n",
       "      <td>M</td>\n",
       "      <td>5.359443</td>\n",
       "    </tr>\n",
       "    <tr>\n",
       "      <th>15</th>\n",
       "      <td>&gt;84</td>\n",
       "      <td>Wien</td>\n",
       "      <td>W</td>\n",
       "      <td>4.162195</td>\n",
       "    </tr>\n",
       "  </tbody>\n",
       "</table>\n",
       "</div>"
      ],
      "text/plain": [
       "   Altersgruppe        Bundesland Geschlecht  Proportion of death/100\n",
       "0         65-74  Niederösterreich          M                 0.524454\n",
       "1         65-74  Niederösterreich          W                 0.229511\n",
       "2         65-74              Wien          M                 0.615776\n",
       "3         65-74              Wien          W                 0.335242\n",
       "4         75-84  Niederösterreich          M                 1.405950\n",
       "5         75-84  Niederösterreich          W                 0.813133\n",
       "6         75-84              Wien          M                 1.652590\n",
       "7         75-84              Wien          W                 0.893988\n",
       "8           <65  Niederösterreich          M                 0.043315\n",
       "9           <65  Niederösterreich          W                 0.020884\n",
       "10          <65              Wien          M                 0.038108\n",
       "11          <65              Wien          W                 0.019054\n",
       "12          >84  Niederösterreich          M                 4.444732\n",
       "13          >84  Niederösterreich          W                 3.392027\n",
       "14          >84              Wien          M                 5.359443\n",
       "15          >84              Wien          W                 4.162195"
      ]
     },
     "execution_count": 38,
     "metadata": {},
     "output_type": "execute_result"
    }
   ],
   "source": [
    "df_temp"
   ]
  },
  {
   "cell_type": "code",
   "execution_count": 42,
   "metadata": {},
   "outputs": [
    {
     "data": {
      "text/html": [
       "<div>\n",
       "<style scoped>\n",
       "    .dataframe tbody tr th:only-of-type {\n",
       "        vertical-align: middle;\n",
       "    }\n",
       "\n",
       "    .dataframe tbody tr th {\n",
       "        vertical-align: top;\n",
       "    }\n",
       "\n",
       "    .dataframe thead th {\n",
       "        text-align: right;\n",
       "    }\n",
       "</style>\n",
       "<table border=\"1\" class=\"dataframe\">\n",
       "  <thead>\n",
       "    <tr style=\"text-align: right;\">\n",
       "      <th></th>\n",
       "      <th></th>\n",
       "      <th>Proportion of death/100</th>\n",
       "    </tr>\n",
       "    <tr>\n",
       "      <th>Bundesland</th>\n",
       "      <th>Altersgruppe</th>\n",
       "      <th></th>\n",
       "    </tr>\n",
       "  </thead>\n",
       "  <tbody>\n",
       "    <tr>\n",
       "      <th rowspan=\"4\" valign=\"top\">Niederösterreich</th>\n",
       "      <th>65-74</th>\n",
       "      <td>0.753966</td>\n",
       "    </tr>\n",
       "    <tr>\n",
       "      <th>75-84</th>\n",
       "      <td>2.219084</td>\n",
       "    </tr>\n",
       "    <tr>\n",
       "      <th>&lt;65</th>\n",
       "      <td>0.064199</td>\n",
       "    </tr>\n",
       "    <tr>\n",
       "      <th>&gt;84</th>\n",
       "      <td>7.836758</td>\n",
       "    </tr>\n",
       "    <tr>\n",
       "      <th rowspan=\"4\" valign=\"top\">Wien</th>\n",
       "      <th>65-74</th>\n",
       "      <td>0.951018</td>\n",
       "    </tr>\n",
       "    <tr>\n",
       "      <th>75-84</th>\n",
       "      <td>2.546578</td>\n",
       "    </tr>\n",
       "    <tr>\n",
       "      <th>&lt;65</th>\n",
       "      <td>0.057162</td>\n",
       "    </tr>\n",
       "    <tr>\n",
       "      <th>&gt;84</th>\n",
       "      <td>9.521639</td>\n",
       "    </tr>\n",
       "  </tbody>\n",
       "</table>\n",
       "</div>"
      ],
      "text/plain": [
       "                               Proportion of death/100\n",
       "Bundesland       Altersgruppe                         \n",
       "Niederösterreich 65-74                        0.753966\n",
       "                 75-84                        2.219084\n",
       "                 <65                          0.064199\n",
       "                 >84                          7.836758\n",
       "Wien             65-74                        0.951018\n",
       "                 75-84                        2.546578\n",
       "                 <65                          0.057162\n",
       "                 >84                          9.521639"
      ]
     },
     "execution_count": 42,
     "metadata": {},
     "output_type": "execute_result"
    }
   ],
   "source": [
    "df_temp.groupby(['Bundesland', 'Altersgruppe']).sum()"
   ]
  },
  {
   "cell_type": "code",
   "execution_count": null,
   "metadata": {},
   "outputs": [],
   "source": []
  }
 ],
 "metadata": {
  "kernelspec": {
   "display_name": "Python 3 (ipykernel)",
   "language": "python",
   "name": "python3"
  },
  "language_info": {
   "codemirror_mode": {
    "name": "ipython",
    "version": 3
   },
   "file_extension": ".py",
   "mimetype": "text/x-python",
   "name": "python",
   "nbconvert_exporter": "python",
   "pygments_lexer": "ipython3",
   "version": "3.10.6"
  }
 },
 "nbformat": 4,
 "nbformat_minor": 4
}
