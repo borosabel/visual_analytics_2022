{
 "cells": [
  {
   "cell_type": "code",
   "execution_count": 139,
   "id": "7f85cac2",
   "metadata": {},
   "outputs": [],
   "source": [
    "import pandas as pd\n",
    "import matplotlib.pyplot as plt\n",
    "import seaborn as sns\n",
    "df = pd.read_csv('../data/covid_data/CovidFaelle_Altersgruppe.csv', delimiter=';')"
   ]
  },
  {
   "cell_type": "code",
   "execution_count": 141,
   "id": "59174c83-0e47-4f76-857e-15a40edbabc2",
   "metadata": {},
   "outputs": [],
   "source": [
    "df.drop(columns=['BundeslandID', 'Anzahl', 'AnzahlGeheilt'], inplace=True)"
   ]
  },
  {
   "cell_type": "code",
   "execution_count": 142,
   "id": "e2fed2c0-4cbf-42df-a7d1-83bcab032539",
   "metadata": {},
   "outputs": [],
   "source": [
    "df_barchart = df[((df['Bundesland'] == 'Niederösterreich') | (df['Bundesland'] == 'Wien')) & (df['Time'] == '10.11.2022 00:00:00')]"
   ]
  },
  {
   "cell_type": "code",
   "execution_count": 144,
   "id": "6e611a3a-175f-40e3-a248-d5f8d776b8e3",
   "metadata": {},
   "outputs": [
    {
     "name": "stderr",
     "output_type": "stream",
     "text": [
      "C:\\Users\\angel\\AppData\\Local\\Temp\\ipykernel_20288\\4160867413.py:1: SettingWithCopyWarning: \n",
      "A value is trying to be set on a copy of a slice from a DataFrame\n",
      "\n",
      "See the caveats in the documentation: https://pandas.pydata.org/pandas-docs/stable/user_guide/indexing.html#returning-a-view-versus-a-copy\n",
      "  df_barchart.sort_values('AltersgruppeID', inplace=True)\n"
     ]
    }
   ],
   "source": [
    "df_barchart.sort_values('AltersgruppeID', inplace=True)\n",
    "#new_row = df_barchart[(df_barchart['Altersgruppe'] == '<5') | (df_barchart['Altersgruppe'] == '5-14') | (df_barchart['Altersgruppe'] == '15-24') | (df_barchart['Altersgruppe'] == '25-34') | (df_barchart['Altersgruppe'] == '35-44') | (df_barchart['Altersgruppe'] == '45-54') | (df_barchart['Altersgruppe'] == '55-64')].aggregate('sum')\n",
    "#df_barchart = df_barchart.tail(df_barchart.shape[0] - 7)\n",
    "#df_barchart = df_barchart.append(new_row, ignore_index=True)\n",
    "#df_barchart.at[3, 'Altersgruppe'] = '<65'\n",
    "#df_barchart.at[3, 'AltersgruppeID'] = 1\n",
    "#df_barchart.sort_values('AltersgruppeID', inplace=True)\n",
    "#df_barchart['Proportion of death/100'] = (df_barchart['AnzahlTot'] / df_barchart['AnzEinwohner']) * 100\n"
   ]
  },
  {
   "cell_type": "code",
   "execution_count": 145,
   "id": "90563e9a-db2b-418d-904e-10881ded82fc",
   "metadata": {},
   "outputs": [
    {
     "name": "stderr",
     "output_type": "stream",
     "text": [
      "C:\\Users\\angel\\AppData\\Local\\Temp\\ipykernel_20288\\4189469903.py:8: SettingWithCopyWarning: \n",
      "A value is trying to be set on a copy of a slice from a DataFrame\n",
      "\n",
      "See the caveats in the documentation: https://pandas.pydata.org/pandas-docs/stable/user_guide/indexing.html#returning-a-view-versus-a-copy\n",
      "  df_barchart['Altersgruppe'].replace(['<5', '5-14', '15-24', '25-34', '35-44', '45-54', '55-64'], ['<65', '<65', '<65', '<65', '<65', '<65', '<65'], inplace=True)\n"
     ]
    }
   ],
   "source": [
    "df_barchart['Altersgruppe'].replace(['<5', '5-14', '15-24', '25-34', '35-44', '45-54', '55-64'], ['<65', '<65', '<65', '<65', '<65', '<65', '<65'], inplace=True)"
   ]
  },
  {
   "cell_type": "code",
   "execution_count": 147,
   "id": "3c5e3a8c-53a6-403a-9e85-375a839416f0",
   "metadata": {},
   "outputs": [
    {
     "name": "stderr",
     "output_type": "stream",
     "text": [
      "C:\\Users\\angel\\AppData\\Local\\Temp\\ipykernel_20288\\922317065.py:1: SettingWithCopyWarning: \n",
      "A value is trying to be set on a copy of a slice from a DataFrame\n",
      "\n",
      "See the caveats in the documentation: https://pandas.pydata.org/pandas-docs/stable/user_guide/indexing.html#returning-a-view-versus-a-copy\n",
      "  df_barchart.drop(columns=['AltersgruppeID', 'Time'], inplace=True)\n"
     ]
    }
   ],
   "source": [
    "df_barchart.drop(columns=['AltersgruppeID', 'Time'], inplace=True)"
   ]
  },
  {
   "cell_type": "code",
   "execution_count": 148,
   "id": "9b769f5a-bfa2-4e9d-8d88-a4ea7d9d4091",
   "metadata": {},
   "outputs": [],
   "source": [
    "df_barchart = df_barchart.groupby(['Altersgruppe', 'Bundesland', 'Geschlecht'], as_index = False, sort=False)[['AnzEinwohner','AnzahlTot']].sum()"
   ]
  },
  {
   "cell_type": "code",
   "execution_count": 151,
   "id": "6fa56425-725e-4170-b85f-e534b5cce6b0",
   "metadata": {},
   "outputs": [],
   "source": [
    "df_barchart['Proportion of death/100'] = (df_barchart['AnzahlTot'] / df_barchart['AnzEinwohner']) * 100"
   ]
  },
  {
   "cell_type": "code",
   "execution_count": 153,
   "id": "d0d24887-ae0d-4f49-9d59-24fdac38018a",
   "metadata": {},
   "outputs": [
    {
     "data": {
      "text/html": [
       "<div>\n",
       "<style scoped>\n",
       "    .dataframe tbody tr th:only-of-type {\n",
       "        vertical-align: middle;\n",
       "    }\n",
       "\n",
       "    .dataframe tbody tr th {\n",
       "        vertical-align: top;\n",
       "    }\n",
       "\n",
       "    .dataframe thead th {\n",
       "        text-align: right;\n",
       "    }\n",
       "</style>\n",
       "<table border=\"1\" class=\"dataframe\">\n",
       "  <thead>\n",
       "    <tr style=\"text-align: right;\">\n",
       "      <th></th>\n",
       "      <th>Altersgruppe</th>\n",
       "      <th>Bundesland</th>\n",
       "      <th>Geschlecht</th>\n",
       "      <th>AnzEinwohner</th>\n",
       "      <th>AnzahlTot</th>\n",
       "      <th>Proportion of death/100</th>\n",
       "    </tr>\n",
       "  </thead>\n",
       "  <tbody>\n",
       "    <tr>\n",
       "      <th>0</th>\n",
       "      <td>&lt;65</td>\n",
       "      <td>Niederösterreich</td>\n",
       "      <td>M</td>\n",
       "      <td>678752</td>\n",
       "      <td>294</td>\n",
       "      <td>0.043315</td>\n",
       "    </tr>\n",
       "    <tr>\n",
       "      <th>1</th>\n",
       "      <td>&lt;65</td>\n",
       "      <td>Niederösterreich</td>\n",
       "      <td>W</td>\n",
       "      <td>665588</td>\n",
       "      <td>139</td>\n",
       "      <td>0.020884</td>\n",
       "    </tr>\n",
       "    <tr>\n",
       "      <th>2</th>\n",
       "      <td>&lt;65</td>\n",
       "      <td>Wien</td>\n",
       "      <td>M</td>\n",
       "      <td>805612</td>\n",
       "      <td>307</td>\n",
       "      <td>0.038108</td>\n",
       "    </tr>\n",
       "    <tr>\n",
       "      <th>3</th>\n",
       "      <td>&lt;65</td>\n",
       "      <td>Wien</td>\n",
       "      <td>W</td>\n",
       "      <td>797712</td>\n",
       "      <td>152</td>\n",
       "      <td>0.019054</td>\n",
       "    </tr>\n",
       "    <tr>\n",
       "      <th>4</th>\n",
       "      <td>65-74</td>\n",
       "      <td>Niederösterreich</td>\n",
       "      <td>M</td>\n",
       "      <td>81990</td>\n",
       "      <td>430</td>\n",
       "      <td>0.524454</td>\n",
       "    </tr>\n",
       "    <tr>\n",
       "      <th>5</th>\n",
       "      <td>65-74</td>\n",
       "      <td>Niederösterreich</td>\n",
       "      <td>W</td>\n",
       "      <td>91063</td>\n",
       "      <td>209</td>\n",
       "      <td>0.229511</td>\n",
       "    </tr>\n",
       "    <tr>\n",
       "      <th>6</th>\n",
       "      <td>65-74</td>\n",
       "      <td>Wien</td>\n",
       "      <td>M</td>\n",
       "      <td>71617</td>\n",
       "      <td>441</td>\n",
       "      <td>0.615776</td>\n",
       "    </tr>\n",
       "    <tr>\n",
       "      <th>7</th>\n",
       "      <td>65-74</td>\n",
       "      <td>Wien</td>\n",
       "      <td>W</td>\n",
       "      <td>88891</td>\n",
       "      <td>298</td>\n",
       "      <td>0.335242</td>\n",
       "    </tr>\n",
       "    <tr>\n",
       "      <th>8</th>\n",
       "      <td>75-84</td>\n",
       "      <td>Wien</td>\n",
       "      <td>M</td>\n",
       "      <td>49135</td>\n",
       "      <td>812</td>\n",
       "      <td>1.652590</td>\n",
       "    </tr>\n",
       "    <tr>\n",
       "      <th>9</th>\n",
       "      <td>75-84</td>\n",
       "      <td>Niederösterreich</td>\n",
       "      <td>M</td>\n",
       "      <td>56332</td>\n",
       "      <td>792</td>\n",
       "      <td>1.405950</td>\n",
       "    </tr>\n",
       "    <tr>\n",
       "      <th>10</th>\n",
       "      <td>75-84</td>\n",
       "      <td>Niederösterreich</td>\n",
       "      <td>W</td>\n",
       "      <td>71575</td>\n",
       "      <td>582</td>\n",
       "      <td>0.813133</td>\n",
       "    </tr>\n",
       "    <tr>\n",
       "      <th>11</th>\n",
       "      <td>75-84</td>\n",
       "      <td>Wien</td>\n",
       "      <td>W</td>\n",
       "      <td>70247</td>\n",
       "      <td>628</td>\n",
       "      <td>0.893988</td>\n",
       "    </tr>\n",
       "    <tr>\n",
       "      <th>12</th>\n",
       "      <td>&gt;84</td>\n",
       "      <td>Niederösterreich</td>\n",
       "      <td>W</td>\n",
       "      <td>30100</td>\n",
       "      <td>1021</td>\n",
       "      <td>3.392027</td>\n",
       "    </tr>\n",
       "    <tr>\n",
       "      <th>13</th>\n",
       "      <td>&gt;84</td>\n",
       "      <td>Wien</td>\n",
       "      <td>M</td>\n",
       "      <td>11643</td>\n",
       "      <td>624</td>\n",
       "      <td>5.359443</td>\n",
       "    </tr>\n",
       "    <tr>\n",
       "      <th>14</th>\n",
       "      <td>&gt;84</td>\n",
       "      <td>Wien</td>\n",
       "      <td>W</td>\n",
       "      <td>26092</td>\n",
       "      <td>1086</td>\n",
       "      <td>4.162195</td>\n",
       "    </tr>\n",
       "    <tr>\n",
       "      <th>15</th>\n",
       "      <td>&gt;84</td>\n",
       "      <td>Niederösterreich</td>\n",
       "      <td>M</td>\n",
       "      <td>15479</td>\n",
       "      <td>688</td>\n",
       "      <td>4.444732</td>\n",
       "    </tr>\n",
       "  </tbody>\n",
       "</table>\n",
       "</div>"
      ],
      "text/plain": [
       "   Altersgruppe        Bundesland Geschlecht  AnzEinwohner  AnzahlTot  \\\n",
       "0           <65  Niederösterreich          M        678752        294   \n",
       "1           <65  Niederösterreich          W        665588        139   \n",
       "2           <65              Wien          M        805612        307   \n",
       "3           <65              Wien          W        797712        152   \n",
       "4         65-74  Niederösterreich          M         81990        430   \n",
       "5         65-74  Niederösterreich          W         91063        209   \n",
       "6         65-74              Wien          M         71617        441   \n",
       "7         65-74              Wien          W         88891        298   \n",
       "8         75-84              Wien          M         49135        812   \n",
       "9         75-84  Niederösterreich          M         56332        792   \n",
       "10        75-84  Niederösterreich          W         71575        582   \n",
       "11        75-84              Wien          W         70247        628   \n",
       "12          >84  Niederösterreich          W         30100       1021   \n",
       "13          >84              Wien          M         11643        624   \n",
       "14          >84              Wien          W         26092       1086   \n",
       "15          >84  Niederösterreich          M         15479        688   \n",
       "\n",
       "    Proportion of death/100  \n",
       "0                  0.043315  \n",
       "1                  0.020884  \n",
       "2                  0.038108  \n",
       "3                  0.019054  \n",
       "4                  0.524454  \n",
       "5                  0.229511  \n",
       "6                  0.615776  \n",
       "7                  0.335242  \n",
       "8                  1.652590  \n",
       "9                  1.405950  \n",
       "10                 0.813133  \n",
       "11                 0.893988  \n",
       "12                 3.392027  \n",
       "13                 5.359443  \n",
       "14                 4.162195  \n",
       "15                 4.444732  "
      ]
     },
     "execution_count": 153,
     "metadata": {},
     "output_type": "execute_result"
    }
   ],
   "source": [
    "df_barchart.head(16)"
   ]
  },
  {
   "cell_type": "code",
   "execution_count": 169,
   "id": "0a33b891-526f-4e01-97be-5cdfa4cb2683",
   "metadata": {},
   "outputs": [
    {
     "data": {
      "image/png": "[encoded data removed]",
      "text/plain": [
       "<Figure size 1100x800 with 1 Axes>"
      ]
     },
     "metadata": {},
     "output_type": "display_data"
    }
   ],
   "source": [
    "sns.set(rc = {'figure.figsize':(11,8)})\n",
    "ax = sns.barplot(data=df_barchart, x='Altersgruppe', y='Proportion of death/100', hue='Bundesland', errorbar=None)\n",
    "ax.set_facecolor('white')\n",
    "plt.xlabel('Age  group', fontsize=14)\n",
    "plt.ylabel('Number of deaths per 100 inhabitants of each age group', fontsize=14)\n",
    "plt.title('Total number of COVID-19 deaths per 100 inhabitants until 10.11.2022 by age group', fontsize=14)\n",
    "plt.yticks(fontsize=14)\n",
    "plt.xticks(fontsize=12)\n",
    "plt.legend(loc = 'upper left', fontsize=16, facecolor='white', labels=['Lower Austria', 'Vienna'])\n",
    "leg = plt.legend\n",
    "#plt.savefig('figure1.png', dpi=600, format='png', bbox_inches='tight')\n",
    "plt.show()"
   ]
  },
  {
   "cell_type": "code",
   "execution_count": null,
   "id": "498294cc-5712-4b88-b1f4-34ebdf541e61",
   "metadata": {},
   "outputs": [],
   "source": []
  },
  {
   "cell_type": "code",
   "execution_count": null,
   "id": "8c266006-bd46-4189-b59e-2caba6d21476",
   "metadata": {},
   "outputs": [],
   "source": []
  },
  {
   "cell_type": "code",
   "execution_count": null,
   "id": "accf96b4",
   "metadata": {},
   "outputs": [],
   "source": []
  },
  {
   "cell_type": "markdown",
   "id": "c5ccd066",
   "metadata": {},
   "source": []
  },
  {
   "cell_type": "markdown",
   "id": "24977841",
   "metadata": {},
   "source": []
  },
  {
   "cell_type": "code",
   "execution_count": null,
   "id": "908c211d",
   "metadata": {},
   "outputs": [],
   "source": []
  }
 ],
 "metadata": {
  "kernelspec": {
   "display_name": "Python 3 (ipykernel)",
   "language": "python",
   "name": "python3"
  },
  "language_info": {
   "codemirror_mode": {
    "name": "ipython",
    "version": 3
   },
   "file_extension": ".py",
   "mimetype": "text/x-python",
   "name": "python",
   "nbconvert_exporter": "python",
   "pygments_lexer": "ipython3",
   "version": "3.10.6"
  }
 },
 "nbformat": 4,
 "nbformat_minor": 5
}
